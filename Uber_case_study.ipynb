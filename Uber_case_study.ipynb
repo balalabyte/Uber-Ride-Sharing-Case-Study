{
  "nbformat": 4,
  "nbformat_minor": 0,
  "metadata": {
    "colab": {
      "provenance": []
    },
    "kernelspec": {
      "name": "python3",
      "display_name": "Python 3"
    },
    "language_info": {
      "name": "python"
    }
  },
  "cells": [
    {
      "cell_type": "code",
      "source": [
        "import pandas as pd\n",
        "import numpy as np\n",
        "import matplotlib.pyplot as plt\n",
        "from  scipy.stats import ttest_ind\n",
        "import seaborn as sns"
      ],
      "metadata": {
        "id": "v5GjgEDaoUtP"
      },
      "execution_count": 30,
      "outputs": []
    },
    {
      "cell_type": "code",
      "source": [
        "file_path_data_dic='/content/drive/MyDrive/Colab Notebooks/MSCI 719/Datasets/Case-Data 3 Data Dictionary (CSV).csv'\n",
        "data_dic=pd.read_csv(file_path_data_dic)\n",
        "data_dic.iloc[:,0:3:2]\n"
      ],
      "metadata": {
        "colab": {
          "base_uri": "https://localhost:8080/",
          "height": 457
        },
        "id": "x2G9srtbptDL",
        "outputId": "286e6220-6d1c-4729-daae-1b25a3a6f52d"
      },
      "execution_count": 31,
      "outputs": [
        {
          "output_type": "execute_result",
          "data": {
            "text/plain": [
              "         Data Dictionary                                         Unnamed: 2\n",
              "0      \"Switchbacks\" Tab                                                NaN\n",
              "1               Variable                                         Definition\n",
              "2                city_id  Location where the experiment took place. In t...\n",
              "3           period_start  Start date and time for the 160-minute time pe...\n",
              "4              wait_time  This variable takes on two possible values: \"2...\n",
              "5                  treat  This variable takes on two possible values: \"T...\n",
              "6                commute  This variable takes on two possible values: \"T...\n",
              "7             trips_pool  Total number of POOL trips completed in the cu...\n",
              "8          trips_express  Total number of Express POOL trips completed i...\n",
              "9    rider_cancellations  Total number of requested trips that were canc...\n",
              "10   total_driver_payout  Total dollars paid to drivers for trips comple...\n",
              "11         total_matches  Number of completed trips during the current t...\n",
              "12  total_double_matches  Number of completed trips during the current t..."
            ],
            "text/html": [
              "\n",
              "  <div id=\"df-43af9306-8ef2-49fc-b010-114d5ec6c8e3\" class=\"colab-df-container\">\n",
              "    <div>\n",
              "<style scoped>\n",
              "    .dataframe tbody tr th:only-of-type {\n",
              "        vertical-align: middle;\n",
              "    }\n",
              "\n",
              "    .dataframe tbody tr th {\n",
              "        vertical-align: top;\n",
              "    }\n",
              "\n",
              "    .dataframe thead th {\n",
              "        text-align: right;\n",
              "    }\n",
              "</style>\n",
              "<table border=\"1\" class=\"dataframe\">\n",
              "  <thead>\n",
              "    <tr style=\"text-align: right;\">\n",
              "      <th></th>\n",
              "      <th>Data Dictionary</th>\n",
              "      <th>Unnamed: 2</th>\n",
              "    </tr>\n",
              "  </thead>\n",
              "  <tbody>\n",
              "    <tr>\n",
              "      <th>0</th>\n",
              "      <td>\"Switchbacks\" Tab</td>\n",
              "      <td>NaN</td>\n",
              "    </tr>\n",
              "    <tr>\n",
              "      <th>1</th>\n",
              "      <td>Variable</td>\n",
              "      <td>Definition</td>\n",
              "    </tr>\n",
              "    <tr>\n",
              "      <th>2</th>\n",
              "      <td>city_id</td>\n",
              "      <td>Location where the experiment took place. In t...</td>\n",
              "    </tr>\n",
              "    <tr>\n",
              "      <th>3</th>\n",
              "      <td>period_start</td>\n",
              "      <td>Start date and time for the 160-minute time pe...</td>\n",
              "    </tr>\n",
              "    <tr>\n",
              "      <th>4</th>\n",
              "      <td>wait_time</td>\n",
              "      <td>This variable takes on two possible values: \"2...</td>\n",
              "    </tr>\n",
              "    <tr>\n",
              "      <th>5</th>\n",
              "      <td>treat</td>\n",
              "      <td>This variable takes on two possible values: \"T...</td>\n",
              "    </tr>\n",
              "    <tr>\n",
              "      <th>6</th>\n",
              "      <td>commute</td>\n",
              "      <td>This variable takes on two possible values: \"T...</td>\n",
              "    </tr>\n",
              "    <tr>\n",
              "      <th>7</th>\n",
              "      <td>trips_pool</td>\n",
              "      <td>Total number of POOL trips completed in the cu...</td>\n",
              "    </tr>\n",
              "    <tr>\n",
              "      <th>8</th>\n",
              "      <td>trips_express</td>\n",
              "      <td>Total number of Express POOL trips completed i...</td>\n",
              "    </tr>\n",
              "    <tr>\n",
              "      <th>9</th>\n",
              "      <td>rider_cancellations</td>\n",
              "      <td>Total number of requested trips that were canc...</td>\n",
              "    </tr>\n",
              "    <tr>\n",
              "      <th>10</th>\n",
              "      <td>total_driver_payout</td>\n",
              "      <td>Total dollars paid to drivers for trips comple...</td>\n",
              "    </tr>\n",
              "    <tr>\n",
              "      <th>11</th>\n",
              "      <td>total_matches</td>\n",
              "      <td>Number of completed trips during the current t...</td>\n",
              "    </tr>\n",
              "    <tr>\n",
              "      <th>12</th>\n",
              "      <td>total_double_matches</td>\n",
              "      <td>Number of completed trips during the current t...</td>\n",
              "    </tr>\n",
              "  </tbody>\n",
              "</table>\n",
              "</div>\n",
              "    <div class=\"colab-df-buttons\">\n",
              "\n",
              "  <div class=\"colab-df-container\">\n",
              "    <button class=\"colab-df-convert\" onclick=\"convertToInteractive('df-43af9306-8ef2-49fc-b010-114d5ec6c8e3')\"\n",
              "            title=\"Convert this dataframe to an interactive table.\"\n",
              "            style=\"display:none;\">\n",
              "\n",
              "  <svg xmlns=\"http://www.w3.org/2000/svg\" height=\"24px\" viewBox=\"0 -960 960 960\">\n",
              "    <path d=\"M120-120v-720h720v720H120Zm60-500h600v-160H180v160Zm220 220h160v-160H400v160Zm0 220h160v-160H400v160ZM180-400h160v-160H180v160Zm440 0h160v-160H620v160ZM180-180h160v-160H180v160Zm440 0h160v-160H620v160Z\"/>\n",
              "  </svg>\n",
              "    </button>\n",
              "\n",
              "  <style>\n",
              "    .colab-df-container {\n",
              "      display:flex;\n",
              "      gap: 12px;\n",
              "    }\n",
              "\n",
              "    .colab-df-convert {\n",
              "      background-color: #E8F0FE;\n",
              "      border: none;\n",
              "      border-radius: 50%;\n",
              "      cursor: pointer;\n",
              "      display: none;\n",
              "      fill: #1967D2;\n",
              "      height: 32px;\n",
              "      padding: 0 0 0 0;\n",
              "      width: 32px;\n",
              "    }\n",
              "\n",
              "    .colab-df-convert:hover {\n",
              "      background-color: #E2EBFA;\n",
              "      box-shadow: 0px 1px 2px rgba(60, 64, 67, 0.3), 0px 1px 3px 1px rgba(60, 64, 67, 0.15);\n",
              "      fill: #174EA6;\n",
              "    }\n",
              "\n",
              "    .colab-df-buttons div {\n",
              "      margin-bottom: 4px;\n",
              "    }\n",
              "\n",
              "    [theme=dark] .colab-df-convert {\n",
              "      background-color: #3B4455;\n",
              "      fill: #D2E3FC;\n",
              "    }\n",
              "\n",
              "    [theme=dark] .colab-df-convert:hover {\n",
              "      background-color: #434B5C;\n",
              "      box-shadow: 0px 1px 3px 1px rgba(0, 0, 0, 0.15);\n",
              "      filter: drop-shadow(0px 1px 2px rgba(0, 0, 0, 0.3));\n",
              "      fill: #FFFFFF;\n",
              "    }\n",
              "  </style>\n",
              "\n",
              "    <script>\n",
              "      const buttonEl =\n",
              "        document.querySelector('#df-43af9306-8ef2-49fc-b010-114d5ec6c8e3 button.colab-df-convert');\n",
              "      buttonEl.style.display =\n",
              "        google.colab.kernel.accessAllowed ? 'block' : 'none';\n",
              "\n",
              "      async function convertToInteractive(key) {\n",
              "        const element = document.querySelector('#df-43af9306-8ef2-49fc-b010-114d5ec6c8e3');\n",
              "        const dataTable =\n",
              "          await google.colab.kernel.invokeFunction('convertToInteractive',\n",
              "                                                    [key], {});\n",
              "        if (!dataTable) return;\n",
              "\n",
              "        const docLinkHtml = 'Like what you see? Visit the ' +\n",
              "          '<a target=\"_blank\" href=https://colab.research.google.com/notebooks/data_table.ipynb>data table notebook</a>'\n",
              "          + ' to learn more about interactive tables.';\n",
              "        element.innerHTML = '';\n",
              "        dataTable['output_type'] = 'display_data';\n",
              "        await google.colab.output.renderOutput(dataTable, element);\n",
              "        const docLink = document.createElement('div');\n",
              "        docLink.innerHTML = docLinkHtml;\n",
              "        element.appendChild(docLink);\n",
              "      }\n",
              "    </script>\n",
              "  </div>\n",
              "\n",
              "\n",
              "<div id=\"df-56773741-cae9-4083-9cc3-82d32969a5e8\">\n",
              "  <button class=\"colab-df-quickchart\" onclick=\"quickchart('df-56773741-cae9-4083-9cc3-82d32969a5e8')\"\n",
              "            title=\"Suggest charts\"\n",
              "            style=\"display:none;\">\n",
              "\n",
              "<svg xmlns=\"http://www.w3.org/2000/svg\" height=\"24px\"viewBox=\"0 0 24 24\"\n",
              "     width=\"24px\">\n",
              "    <g>\n",
              "        <path d=\"M19 3H5c-1.1 0-2 .9-2 2v14c0 1.1.9 2 2 2h14c1.1 0 2-.9 2-2V5c0-1.1-.9-2-2-2zM9 17H7v-7h2v7zm4 0h-2V7h2v10zm4 0h-2v-4h2v4z\"/>\n",
              "    </g>\n",
              "</svg>\n",
              "  </button>\n",
              "\n",
              "<style>\n",
              "  .colab-df-quickchart {\n",
              "      --bg-color: #E8F0FE;\n",
              "      --fill-color: #1967D2;\n",
              "      --hover-bg-color: #E2EBFA;\n",
              "      --hover-fill-color: #174EA6;\n",
              "      --disabled-fill-color: #AAA;\n",
              "      --disabled-bg-color: #DDD;\n",
              "  }\n",
              "\n",
              "  [theme=dark] .colab-df-quickchart {\n",
              "      --bg-color: #3B4455;\n",
              "      --fill-color: #D2E3FC;\n",
              "      --hover-bg-color: #434B5C;\n",
              "      --hover-fill-color: #FFFFFF;\n",
              "      --disabled-bg-color: #3B4455;\n",
              "      --disabled-fill-color: #666;\n",
              "  }\n",
              "\n",
              "  .colab-df-quickchart {\n",
              "    background-color: var(--bg-color);\n",
              "    border: none;\n",
              "    border-radius: 50%;\n",
              "    cursor: pointer;\n",
              "    display: none;\n",
              "    fill: var(--fill-color);\n",
              "    height: 32px;\n",
              "    padding: 0;\n",
              "    width: 32px;\n",
              "  }\n",
              "\n",
              "  .colab-df-quickchart:hover {\n",
              "    background-color: var(--hover-bg-color);\n",
              "    box-shadow: 0 1px 2px rgba(60, 64, 67, 0.3), 0 1px 3px 1px rgba(60, 64, 67, 0.15);\n",
              "    fill: var(--button-hover-fill-color);\n",
              "  }\n",
              "\n",
              "  .colab-df-quickchart-complete:disabled,\n",
              "  .colab-df-quickchart-complete:disabled:hover {\n",
              "    background-color: var(--disabled-bg-color);\n",
              "    fill: var(--disabled-fill-color);\n",
              "    box-shadow: none;\n",
              "  }\n",
              "\n",
              "  .colab-df-spinner {\n",
              "    border: 2px solid var(--fill-color);\n",
              "    border-color: transparent;\n",
              "    border-bottom-color: var(--fill-color);\n",
              "    animation:\n",
              "      spin 1s steps(1) infinite;\n",
              "  }\n",
              "\n",
              "  @keyframes spin {\n",
              "    0% {\n",
              "      border-color: transparent;\n",
              "      border-bottom-color: var(--fill-color);\n",
              "      border-left-color: var(--fill-color);\n",
              "    }\n",
              "    20% {\n",
              "      border-color: transparent;\n",
              "      border-left-color: var(--fill-color);\n",
              "      border-top-color: var(--fill-color);\n",
              "    }\n",
              "    30% {\n",
              "      border-color: transparent;\n",
              "      border-left-color: var(--fill-color);\n",
              "      border-top-color: var(--fill-color);\n",
              "      border-right-color: var(--fill-color);\n",
              "    }\n",
              "    40% {\n",
              "      border-color: transparent;\n",
              "      border-right-color: var(--fill-color);\n",
              "      border-top-color: var(--fill-color);\n",
              "    }\n",
              "    60% {\n",
              "      border-color: transparent;\n",
              "      border-right-color: var(--fill-color);\n",
              "    }\n",
              "    80% {\n",
              "      border-color: transparent;\n",
              "      border-right-color: var(--fill-color);\n",
              "      border-bottom-color: var(--fill-color);\n",
              "    }\n",
              "    90% {\n",
              "      border-color: transparent;\n",
              "      border-bottom-color: var(--fill-color);\n",
              "    }\n",
              "  }\n",
              "</style>\n",
              "\n",
              "  <script>\n",
              "    async function quickchart(key) {\n",
              "      const quickchartButtonEl =\n",
              "        document.querySelector('#' + key + ' button');\n",
              "      quickchartButtonEl.disabled = true;  // To prevent multiple clicks.\n",
              "      quickchartButtonEl.classList.add('colab-df-spinner');\n",
              "      try {\n",
              "        const charts = await google.colab.kernel.invokeFunction(\n",
              "            'suggestCharts', [key], {});\n",
              "      } catch (error) {\n",
              "        console.error('Error during call to suggestCharts:', error);\n",
              "      }\n",
              "      quickchartButtonEl.classList.remove('colab-df-spinner');\n",
              "      quickchartButtonEl.classList.add('colab-df-quickchart-complete');\n",
              "    }\n",
              "    (() => {\n",
              "      let quickchartButtonEl =\n",
              "        document.querySelector('#df-56773741-cae9-4083-9cc3-82d32969a5e8 button');\n",
              "      quickchartButtonEl.style.display =\n",
              "        google.colab.kernel.accessAllowed ? 'block' : 'none';\n",
              "    })();\n",
              "  </script>\n",
              "</div>\n",
              "\n",
              "    </div>\n",
              "  </div>\n"
            ]
          },
          "metadata": {},
          "execution_count": 31
        }
      ]
    },
    {
      "cell_type": "code",
      "source": [
        "file_path='/content/drive/MyDrive/Colab Notebooks/MSCI 719/Datasets/Case-Data 3-Switch backs (CSV).csv'"
      ],
      "metadata": {
        "id": "DE5Ux2MOn9Je"
      },
      "execution_count": 32,
      "outputs": []
    },
    {
      "cell_type": "code",
      "source": [
        "df= pd.read_csv(file_path)\n",
        "df.head()"
      ],
      "metadata": {
        "colab": {
          "base_uri": "https://localhost:8080/",
          "height": 313
        },
        "id": "LqiGNTUWoPaj",
        "outputId": "75dac1c0-21bf-4210-db48-a30cbca344ff"
      },
      "execution_count": 33,
      "outputs": [
        {
          "output_type": "execute_result",
          "data": {
            "text/plain": [
              "  city_id      period_start wait_time  treat  commute  trips_pool  \\\n",
              "0  Boston  19-02-2018 07:00    2 mins  False     True        1415   \n",
              "1  Boston  19-02-2018 09:40    5 mins   True    False        1461   \n",
              "2  Boston  19-02-2018 12:20    2 mins  False    False        1362   \n",
              "3  Boston  19-02-2018 15:00    5 mins   True     True        1984   \n",
              "4  Boston  19-02-2018 17:40    2 mins  False    False        1371   \n",
              "\n",
              "   trips_express  rider_cancellations  total_driver_payout  total_matches  \\\n",
              "0           3245                  256          34458.41163           3372   \n",
              "1           2363                  203          29764.34982           2288   \n",
              "2           2184                  118          27437.36736           2283   \n",
              "3           3584                  355          44995.45299           4035   \n",
              "4           2580                  181          27583.95530           2200   \n",
              "\n",
              "   total_double_matches  \n",
              "0                  1476  \n",
              "1                  1275  \n",
              "2                   962  \n",
              "3                  2021  \n",
              "4                   979  "
            ],
            "text/html": [
              "\n",
              "  <div id=\"df-ef04cc5d-9282-4d92-b860-1dbd09c326cd\" class=\"colab-df-container\">\n",
              "    <div>\n",
              "<style scoped>\n",
              "    .dataframe tbody tr th:only-of-type {\n",
              "        vertical-align: middle;\n",
              "    }\n",
              "\n",
              "    .dataframe tbody tr th {\n",
              "        vertical-align: top;\n",
              "    }\n",
              "\n",
              "    .dataframe thead th {\n",
              "        text-align: right;\n",
              "    }\n",
              "</style>\n",
              "<table border=\"1\" class=\"dataframe\">\n",
              "  <thead>\n",
              "    <tr style=\"text-align: right;\">\n",
              "      <th></th>\n",
              "      <th>city_id</th>\n",
              "      <th>period_start</th>\n",
              "      <th>wait_time</th>\n",
              "      <th>treat</th>\n",
              "      <th>commute</th>\n",
              "      <th>trips_pool</th>\n",
              "      <th>trips_express</th>\n",
              "      <th>rider_cancellations</th>\n",
              "      <th>total_driver_payout</th>\n",
              "      <th>total_matches</th>\n",
              "      <th>total_double_matches</th>\n",
              "    </tr>\n",
              "  </thead>\n",
              "  <tbody>\n",
              "    <tr>\n",
              "      <th>0</th>\n",
              "      <td>Boston</td>\n",
              "      <td>19-02-2018 07:00</td>\n",
              "      <td>2 mins</td>\n",
              "      <td>False</td>\n",
              "      <td>True</td>\n",
              "      <td>1415</td>\n",
              "      <td>3245</td>\n",
              "      <td>256</td>\n",
              "      <td>34458.41163</td>\n",
              "      <td>3372</td>\n",
              "      <td>1476</td>\n",
              "    </tr>\n",
              "    <tr>\n",
              "      <th>1</th>\n",
              "      <td>Boston</td>\n",
              "      <td>19-02-2018 09:40</td>\n",
              "      <td>5 mins</td>\n",
              "      <td>True</td>\n",
              "      <td>False</td>\n",
              "      <td>1461</td>\n",
              "      <td>2363</td>\n",
              "      <td>203</td>\n",
              "      <td>29764.34982</td>\n",
              "      <td>2288</td>\n",
              "      <td>1275</td>\n",
              "    </tr>\n",
              "    <tr>\n",
              "      <th>2</th>\n",
              "      <td>Boston</td>\n",
              "      <td>19-02-2018 12:20</td>\n",
              "      <td>2 mins</td>\n",
              "      <td>False</td>\n",
              "      <td>False</td>\n",
              "      <td>1362</td>\n",
              "      <td>2184</td>\n",
              "      <td>118</td>\n",
              "      <td>27437.36736</td>\n",
              "      <td>2283</td>\n",
              "      <td>962</td>\n",
              "    </tr>\n",
              "    <tr>\n",
              "      <th>3</th>\n",
              "      <td>Boston</td>\n",
              "      <td>19-02-2018 15:00</td>\n",
              "      <td>5 mins</td>\n",
              "      <td>True</td>\n",
              "      <td>True</td>\n",
              "      <td>1984</td>\n",
              "      <td>3584</td>\n",
              "      <td>355</td>\n",
              "      <td>44995.45299</td>\n",
              "      <td>4035</td>\n",
              "      <td>2021</td>\n",
              "    </tr>\n",
              "    <tr>\n",
              "      <th>4</th>\n",
              "      <td>Boston</td>\n",
              "      <td>19-02-2018 17:40</td>\n",
              "      <td>2 mins</td>\n",
              "      <td>False</td>\n",
              "      <td>False</td>\n",
              "      <td>1371</td>\n",
              "      <td>2580</td>\n",
              "      <td>181</td>\n",
              "      <td>27583.95530</td>\n",
              "      <td>2200</td>\n",
              "      <td>979</td>\n",
              "    </tr>\n",
              "  </tbody>\n",
              "</table>\n",
              "</div>\n",
              "    <div class=\"colab-df-buttons\">\n",
              "\n",
              "  <div class=\"colab-df-container\">\n",
              "    <button class=\"colab-df-convert\" onclick=\"convertToInteractive('df-ef04cc5d-9282-4d92-b860-1dbd09c326cd')\"\n",
              "            title=\"Convert this dataframe to an interactive table.\"\n",
              "            style=\"display:none;\">\n",
              "\n",
              "  <svg xmlns=\"http://www.w3.org/2000/svg\" height=\"24px\" viewBox=\"0 -960 960 960\">\n",
              "    <path d=\"M120-120v-720h720v720H120Zm60-500h600v-160H180v160Zm220 220h160v-160H400v160Zm0 220h160v-160H400v160ZM180-400h160v-160H180v160Zm440 0h160v-160H620v160ZM180-180h160v-160H180v160Zm440 0h160v-160H620v160Z\"/>\n",
              "  </svg>\n",
              "    </button>\n",
              "\n",
              "  <style>\n",
              "    .colab-df-container {\n",
              "      display:flex;\n",
              "      gap: 12px;\n",
              "    }\n",
              "\n",
              "    .colab-df-convert {\n",
              "      background-color: #E8F0FE;\n",
              "      border: none;\n",
              "      border-radius: 50%;\n",
              "      cursor: pointer;\n",
              "      display: none;\n",
              "      fill: #1967D2;\n",
              "      height: 32px;\n",
              "      padding: 0 0 0 0;\n",
              "      width: 32px;\n",
              "    }\n",
              "\n",
              "    .colab-df-convert:hover {\n",
              "      background-color: #E2EBFA;\n",
              "      box-shadow: 0px 1px 2px rgba(60, 64, 67, 0.3), 0px 1px 3px 1px rgba(60, 64, 67, 0.15);\n",
              "      fill: #174EA6;\n",
              "    }\n",
              "\n",
              "    .colab-df-buttons div {\n",
              "      margin-bottom: 4px;\n",
              "    }\n",
              "\n",
              "    [theme=dark] .colab-df-convert {\n",
              "      background-color: #3B4455;\n",
              "      fill: #D2E3FC;\n",
              "    }\n",
              "\n",
              "    [theme=dark] .colab-df-convert:hover {\n",
              "      background-color: #434B5C;\n",
              "      box-shadow: 0px 1px 3px 1px rgba(0, 0, 0, 0.15);\n",
              "      filter: drop-shadow(0px 1px 2px rgba(0, 0, 0, 0.3));\n",
              "      fill: #FFFFFF;\n",
              "    }\n",
              "  </style>\n",
              "\n",
              "    <script>\n",
              "      const buttonEl =\n",
              "        document.querySelector('#df-ef04cc5d-9282-4d92-b860-1dbd09c326cd button.colab-df-convert');\n",
              "      buttonEl.style.display =\n",
              "        google.colab.kernel.accessAllowed ? 'block' : 'none';\n",
              "\n",
              "      async function convertToInteractive(key) {\n",
              "        const element = document.querySelector('#df-ef04cc5d-9282-4d92-b860-1dbd09c326cd');\n",
              "        const dataTable =\n",
              "          await google.colab.kernel.invokeFunction('convertToInteractive',\n",
              "                                                    [key], {});\n",
              "        if (!dataTable) return;\n",
              "\n",
              "        const docLinkHtml = 'Like what you see? Visit the ' +\n",
              "          '<a target=\"_blank\" href=https://colab.research.google.com/notebooks/data_table.ipynb>data table notebook</a>'\n",
              "          + ' to learn more about interactive tables.';\n",
              "        element.innerHTML = '';\n",
              "        dataTable['output_type'] = 'display_data';\n",
              "        await google.colab.output.renderOutput(dataTable, element);\n",
              "        const docLink = document.createElement('div');\n",
              "        docLink.innerHTML = docLinkHtml;\n",
              "        element.appendChild(docLink);\n",
              "      }\n",
              "    </script>\n",
              "  </div>\n",
              "\n",
              "\n",
              "<div id=\"df-6910fc6d-94bf-41aa-8129-441ada3a7744\">\n",
              "  <button class=\"colab-df-quickchart\" onclick=\"quickchart('df-6910fc6d-94bf-41aa-8129-441ada3a7744')\"\n",
              "            title=\"Suggest charts\"\n",
              "            style=\"display:none;\">\n",
              "\n",
              "<svg xmlns=\"http://www.w3.org/2000/svg\" height=\"24px\"viewBox=\"0 0 24 24\"\n",
              "     width=\"24px\">\n",
              "    <g>\n",
              "        <path d=\"M19 3H5c-1.1 0-2 .9-2 2v14c0 1.1.9 2 2 2h14c1.1 0 2-.9 2-2V5c0-1.1-.9-2-2-2zM9 17H7v-7h2v7zm4 0h-2V7h2v10zm4 0h-2v-4h2v4z\"/>\n",
              "    </g>\n",
              "</svg>\n",
              "  </button>\n",
              "\n",
              "<style>\n",
              "  .colab-df-quickchart {\n",
              "      --bg-color: #E8F0FE;\n",
              "      --fill-color: #1967D2;\n",
              "      --hover-bg-color: #E2EBFA;\n",
              "      --hover-fill-color: #174EA6;\n",
              "      --disabled-fill-color: #AAA;\n",
              "      --disabled-bg-color: #DDD;\n",
              "  }\n",
              "\n",
              "  [theme=dark] .colab-df-quickchart {\n",
              "      --bg-color: #3B4455;\n",
              "      --fill-color: #D2E3FC;\n",
              "      --hover-bg-color: #434B5C;\n",
              "      --hover-fill-color: #FFFFFF;\n",
              "      --disabled-bg-color: #3B4455;\n",
              "      --disabled-fill-color: #666;\n",
              "  }\n",
              "\n",
              "  .colab-df-quickchart {\n",
              "    background-color: var(--bg-color);\n",
              "    border: none;\n",
              "    border-radius: 50%;\n",
              "    cursor: pointer;\n",
              "    display: none;\n",
              "    fill: var(--fill-color);\n",
              "    height: 32px;\n",
              "    padding: 0;\n",
              "    width: 32px;\n",
              "  }\n",
              "\n",
              "  .colab-df-quickchart:hover {\n",
              "    background-color: var(--hover-bg-color);\n",
              "    box-shadow: 0 1px 2px rgba(60, 64, 67, 0.3), 0 1px 3px 1px rgba(60, 64, 67, 0.15);\n",
              "    fill: var(--button-hover-fill-color);\n",
              "  }\n",
              "\n",
              "  .colab-df-quickchart-complete:disabled,\n",
              "  .colab-df-quickchart-complete:disabled:hover {\n",
              "    background-color: var(--disabled-bg-color);\n",
              "    fill: var(--disabled-fill-color);\n",
              "    box-shadow: none;\n",
              "  }\n",
              "\n",
              "  .colab-df-spinner {\n",
              "    border: 2px solid var(--fill-color);\n",
              "    border-color: transparent;\n",
              "    border-bottom-color: var(--fill-color);\n",
              "    animation:\n",
              "      spin 1s steps(1) infinite;\n",
              "  }\n",
              "\n",
              "  @keyframes spin {\n",
              "    0% {\n",
              "      border-color: transparent;\n",
              "      border-bottom-color: var(--fill-color);\n",
              "      border-left-color: var(--fill-color);\n",
              "    }\n",
              "    20% {\n",
              "      border-color: transparent;\n",
              "      border-left-color: var(--fill-color);\n",
              "      border-top-color: var(--fill-color);\n",
              "    }\n",
              "    30% {\n",
              "      border-color: transparent;\n",
              "      border-left-color: var(--fill-color);\n",
              "      border-top-color: var(--fill-color);\n",
              "      border-right-color: var(--fill-color);\n",
              "    }\n",
              "    40% {\n",
              "      border-color: transparent;\n",
              "      border-right-color: var(--fill-color);\n",
              "      border-top-color: var(--fill-color);\n",
              "    }\n",
              "    60% {\n",
              "      border-color: transparent;\n",
              "      border-right-color: var(--fill-color);\n",
              "    }\n",
              "    80% {\n",
              "      border-color: transparent;\n",
              "      border-right-color: var(--fill-color);\n",
              "      border-bottom-color: var(--fill-color);\n",
              "    }\n",
              "    90% {\n",
              "      border-color: transparent;\n",
              "      border-bottom-color: var(--fill-color);\n",
              "    }\n",
              "  }\n",
              "</style>\n",
              "\n",
              "  <script>\n",
              "    async function quickchart(key) {\n",
              "      const quickchartButtonEl =\n",
              "        document.querySelector('#' + key + ' button');\n",
              "      quickchartButtonEl.disabled = true;  // To prevent multiple clicks.\n",
              "      quickchartButtonEl.classList.add('colab-df-spinner');\n",
              "      try {\n",
              "        const charts = await google.colab.kernel.invokeFunction(\n",
              "            'suggestCharts', [key], {});\n",
              "      } catch (error) {\n",
              "        console.error('Error during call to suggestCharts:', error);\n",
              "      }\n",
              "      quickchartButtonEl.classList.remove('colab-df-spinner');\n",
              "      quickchartButtonEl.classList.add('colab-df-quickchart-complete');\n",
              "    }\n",
              "    (() => {\n",
              "      let quickchartButtonEl =\n",
              "        document.querySelector('#df-6910fc6d-94bf-41aa-8129-441ada3a7744 button');\n",
              "      quickchartButtonEl.style.display =\n",
              "        google.colab.kernel.accessAllowed ? 'block' : 'none';\n",
              "    })();\n",
              "  </script>\n",
              "</div>\n",
              "\n",
              "    </div>\n",
              "  </div>\n"
            ]
          },
          "metadata": {},
          "execution_count": 33
        }
      ]
    },
    {
      "cell_type": "markdown",
      "source": [
        "# 1 Commute versus non-commute hours\n",
        "###1. Do the commuting hours experience a higher number of ride-sharing trips? Is the difference statistically significant? What about the rate of using each ride-share service? (15%)\n"
      ],
      "metadata": {
        "id": "Xu8e5-iKnvo8"
      }
    },
    {
      "cell_type": "code",
      "source": [
        "mean_non_commute= df[df['commute']==False][['trips_pool','trips_express']].sum(axis=1).mean()\n",
        "mean_commute=     df[df['commute']==True ][['trips_pool','trips_express']].sum(axis=1).mean()"
      ],
      "metadata": {
        "id": "fhpfKwVCABFu"
      },
      "execution_count": 34,
      "outputs": []
    },
    {
      "cell_type": "code",
      "source": [
        "non_commute= df[df['commute']==False][['trips_pool','trips_express']].sum(axis=1)\n",
        "commute=     df[df['commute']==True ][['trips_pool','trips_express']].sum(axis=1)\n",
        "\n",
        "non_commute"
      ],
      "metadata": {
        "id": "aUstImV1n8X0",
        "colab": {
          "base_uri": "https://localhost:8080/"
        },
        "outputId": "2bc04988-aa1f-4ad5-8a38-e9c87b8b9ff9"
      },
      "execution_count": null,
      "outputs": [
        {
          "output_type": "execute_result",
          "data": {
            "text/plain": [
              "1      3824\n",
              "2      3546\n",
              "4      3951\n",
              "5      3423\n",
              "6      3759\n",
              "       ... \n",
              "121    4373\n",
              "122    3637\n",
              "123    3516\n",
              "124    3410\n",
              "125    3781\n",
              "Length: 106, dtype: int64"
            ]
          },
          "metadata": {},
          "execution_count": 6
        }
      ]
    },
    {
      "cell_type": "code",
      "source": [
        "t_test, p_value= ttest_ind(non_commute, commute)\n",
        "t_test, p_value, mean_commute, mean_non_commute\n"
      ],
      "metadata": {
        "colab": {
          "base_uri": "https://localhost:8080/"
        },
        "id": "nEadIeXhkd24",
        "outputId": "6b562661-6c30-43ca-83d2-767bccfa6dde"
      },
      "execution_count": null,
      "outputs": [
        {
          "output_type": "execute_result",
          "data": {
            "text/plain": [
              "(-11.92942632873384, 2.5437435117455252e-22, 4885.05, 3742.1132075471696)"
            ]
          },
          "metadata": {},
          "execution_count": 7
        }
      ]
    },
    {
      "cell_type": "markdown",
      "source": [
        "We can see that the difference in mean is statistically significant since the p-value is less than 0.05 and the average number of rides during the commute hour is more than during the non-commute hour."
      ],
      "metadata": {
        "id": "dU10Zc2SITL1"
      }
    },
    {
      "cell_type": "code",
      "source": [
        "from scipy.stats import chi2_contingency\n",
        "\n",
        "\n",
        "contingency_table = [\n",
        "    [pool_commute, express_commute],  # Commuting hours\n",
        "    [pool_non_commute, express_non_commute]  # Non-commuting hours\n",
        "]\n",
        "\n",
        "# Perform the chi-square test for independence\n",
        "chi2, p, dof, expected = chi2_contingency(contingency_table)\n",
        "\n",
        "chi2, p\n"
      ],
      "metadata": {
        "colab": {
          "base_uri": "https://localhost:8080/"
        },
        "id": "9yOKCxt9TrOA",
        "outputId": "77ba4024-2ea8-4edc-91b6-57a1118c7dca"
      },
      "execution_count": 55,
      "outputs": [
        {
          "output_type": "execute_result",
          "data": {
            "text/plain": [
              "(1111.131063529384, 1.2578320408719957e-243)"
            ]
          },
          "metadata": {},
          "execution_count": 55
        }
      ]
    },
    {
      "cell_type": "markdown",
      "source": [
        "This extremely small p-value indicates that there is a statistically significant association between the commuting vs. non-commuting hours and the type of ride (pool vs. express). The distribution of pool and express trips significantly differs between commuting and non-commuting hours, confirming that the preference for either type of service is not independent of the rush hour timings."
      ],
      "metadata": {
        "id": "5ovI2BJ6T9MZ"
      }
    },
    {
      "cell_type": "markdown",
      "source": [
        "### 2. Assume on average riders pay around 12.5 dollars for a POOL ride and 10.5 on an Express ride. What is the difference in Uber’s profit in a typical hour of commuting and non-commuting? Is the difference statistically significant? (15%)"
      ],
      "metadata": {
        "id": "sRDclMRc2LNt"
      }
    },
    {
      "cell_type": "code",
      "source": [
        "#filtering data\n",
        "profit_commute= df[df['commute']==True]['trips_pool']* 12.5 + df[df['commute']==True]['trips_express']* 10.5 - df[df['commute']==True]['total_driver_payout']\n",
        "profit_non_commute=df[df['commute']==False] ['trips_pool']* 12.5 + df[df['commute']==False]['trips_express']* 10.5 - df[df['commute']==False]['total_driver_payout']\n",
        "\n",
        "t_test, p_value= ttest_ind(profit_commute, profit_non_commute)\n",
        "\n",
        "t_test, p_value, profit_non_commute.mean(), profit_commute.mean()"
      ],
      "metadata": {
        "colab": {
          "base_uri": "https://localhost:8080/"
        },
        "id": "5cx3XFJ32RW_",
        "outputId": "fc24be1a-2ec4-4764-a084-42e7a83a15db"
      },
      "execution_count": null,
      "outputs": [
        {
          "output_type": "execute_result",
          "data": {
            "text/plain": [
              "(1.611753687373095, 0.10955800040646549, 15598.289685188678, 16717.0995395)"
            ]
          },
          "metadata": {},
          "execution_count": 12
        }
      ]
    },
    {
      "cell_type": "code",
      "source": [
        "print(\"commute hours mean profit: \",round(profit_commute.mean() ))\n",
        "print(\"non-commute hours mean profit: \",round(profit_non_commute.mean() ))\n",
        "print(\"\\ncommute hours total profit: \",round(profit_commute.sum() ))\n",
        "print(\"non-commute hours total profit: \",round(profit_non_commute.sum()) )\n",
        "print(\"\\nNon-commute total profit > commute hour total profit\")\n",
        "print(\"Non-commute mean profit < commute hour mean profit\")\n",
        "print(\"\\nDifference in total profit (): \", round(profit_non_commute.sum()-profit_commute.sum()))\n",
        "print(\"\\nDifference in mean profit (): \", round(profit_commute.mean()-profit_non_commute.mean()))"
      ],
      "metadata": {
        "colab": {
          "base_uri": "https://localhost:8080/"
        },
        "id": "tL_uZoCAVZIk",
        "outputId": "938a360d-4bb1-44c7-ff28-4b1a2dc3005f"
      },
      "execution_count": 67,
      "outputs": [
        {
          "output_type": "stream",
          "name": "stdout",
          "text": [
            "commute hours mean profit:  16717\n",
            "non-commute hours mean profit:  15598\n",
            "\n",
            "commute hours total profit:  334342\n",
            "non-commute hours total profit:  1653419\n",
            "\n",
            "Non-commute total profit > commute hour total profit\n",
            "Non-commute mean profit < commute hour mean profit\n",
            "\n",
            "Difference in total profit ():  1319077\n",
            "\n",
            "Difference in mean profit ():  1119\n"
          ]
        }
      ]
    },
    {
      "cell_type": "markdown",
      "source": [
        "The p-value is not less than 0.05 which indicates that this difference (i.e. mean commute hour profit > mean non-commute hour profit )is not statistically significant and could be due to random chance."
      ],
      "metadata": {
        "id": "cUOwuViELh6u"
      }
    },
    {
      "cell_type": "markdown",
      "source": [
        "###4. Using the kernel density estimation method with a suitable choice of bandwidth, estimate the distribution of cancellations rate in non-commuting and commuting hours. Do you observe a difference? How could you explain the difference? (15%)"
      ],
      "metadata": {
        "id": "-WuYwPdYNVIy"
      }
    },
    {
      "cell_type": "code",
      "source": [
        "df.head()"
      ],
      "metadata": {
        "colab": {
          "base_uri": "https://localhost:8080/",
          "height": 313
        },
        "id": "QqWN-tZQUqdB",
        "outputId": "43bba99a-167d-4d0f-89e3-876c2bb3142b"
      },
      "execution_count": 91,
      "outputs": [
        {
          "output_type": "execute_result",
          "data": {
            "text/plain": [
              "  city_id      period_start wait_time  treat  commute  trips_pool  \\\n",
              "0  Boston  19-02-2018 07:00    2 mins  False     True        1415   \n",
              "1  Boston  19-02-2018 09:40    5 mins   True    False        1461   \n",
              "2  Boston  19-02-2018 12:20    2 mins  False    False        1362   \n",
              "3  Boston  19-02-2018 15:00    5 mins   True     True        1984   \n",
              "4  Boston  19-02-2018 17:40    2 mins  False    False        1371   \n",
              "\n",
              "   trips_express  rider_cancellations  total_driver_payout  total_matches  \\\n",
              "0           3245                  256          34458.41163           3372   \n",
              "1           2363                  203          29764.34982           2288   \n",
              "2           2184                  118          27437.36736           2283   \n",
              "3           3584                  355          44995.45299           4035   \n",
              "4           2580                  181          27583.95530           2200   \n",
              "\n",
              "   total_double_matches  total_trips  pool_rate  express_rate  \\\n",
              "0                  1476         4660   0.303648      0.696352   \n",
              "1                  1275         3824   0.382061      0.617939   \n",
              "2                   962         3546   0.384095      0.615905   \n",
              "3                  2021         5568   0.356322      0.643678   \n",
              "4                   979         3951   0.347001      0.652999   \n",
              "\n",
              "   cancellation_rate  \n",
              "0           0.054936  \n",
              "1           0.053086  \n",
              "2           0.033277  \n",
              "3           0.063757  \n",
              "4           0.045811  "
            ],
            "text/html": [
              "\n",
              "  <div id=\"df-80d598bf-e615-4540-a40e-f3a21b7890e8\" class=\"colab-df-container\">\n",
              "    <div>\n",
              "<style scoped>\n",
              "    .dataframe tbody tr th:only-of-type {\n",
              "        vertical-align: middle;\n",
              "    }\n",
              "\n",
              "    .dataframe tbody tr th {\n",
              "        vertical-align: top;\n",
              "    }\n",
              "\n",
              "    .dataframe thead th {\n",
              "        text-align: right;\n",
              "    }\n",
              "</style>\n",
              "<table border=\"1\" class=\"dataframe\">\n",
              "  <thead>\n",
              "    <tr style=\"text-align: right;\">\n",
              "      <th></th>\n",
              "      <th>city_id</th>\n",
              "      <th>period_start</th>\n",
              "      <th>wait_time</th>\n",
              "      <th>treat</th>\n",
              "      <th>commute</th>\n",
              "      <th>trips_pool</th>\n",
              "      <th>trips_express</th>\n",
              "      <th>rider_cancellations</th>\n",
              "      <th>total_driver_payout</th>\n",
              "      <th>total_matches</th>\n",
              "      <th>total_double_matches</th>\n",
              "      <th>total_trips</th>\n",
              "      <th>pool_rate</th>\n",
              "      <th>express_rate</th>\n",
              "      <th>cancellation_rate</th>\n",
              "    </tr>\n",
              "  </thead>\n",
              "  <tbody>\n",
              "    <tr>\n",
              "      <th>0</th>\n",
              "      <td>Boston</td>\n",
              "      <td>19-02-2018 07:00</td>\n",
              "      <td>2 mins</td>\n",
              "      <td>False</td>\n",
              "      <td>True</td>\n",
              "      <td>1415</td>\n",
              "      <td>3245</td>\n",
              "      <td>256</td>\n",
              "      <td>34458.41163</td>\n",
              "      <td>3372</td>\n",
              "      <td>1476</td>\n",
              "      <td>4660</td>\n",
              "      <td>0.303648</td>\n",
              "      <td>0.696352</td>\n",
              "      <td>0.054936</td>\n",
              "    </tr>\n",
              "    <tr>\n",
              "      <th>1</th>\n",
              "      <td>Boston</td>\n",
              "      <td>19-02-2018 09:40</td>\n",
              "      <td>5 mins</td>\n",
              "      <td>True</td>\n",
              "      <td>False</td>\n",
              "      <td>1461</td>\n",
              "      <td>2363</td>\n",
              "      <td>203</td>\n",
              "      <td>29764.34982</td>\n",
              "      <td>2288</td>\n",
              "      <td>1275</td>\n",
              "      <td>3824</td>\n",
              "      <td>0.382061</td>\n",
              "      <td>0.617939</td>\n",
              "      <td>0.053086</td>\n",
              "    </tr>\n",
              "    <tr>\n",
              "      <th>2</th>\n",
              "      <td>Boston</td>\n",
              "      <td>19-02-2018 12:20</td>\n",
              "      <td>2 mins</td>\n",
              "      <td>False</td>\n",
              "      <td>False</td>\n",
              "      <td>1362</td>\n",
              "      <td>2184</td>\n",
              "      <td>118</td>\n",
              "      <td>27437.36736</td>\n",
              "      <td>2283</td>\n",
              "      <td>962</td>\n",
              "      <td>3546</td>\n",
              "      <td>0.384095</td>\n",
              "      <td>0.615905</td>\n",
              "      <td>0.033277</td>\n",
              "    </tr>\n",
              "    <tr>\n",
              "      <th>3</th>\n",
              "      <td>Boston</td>\n",
              "      <td>19-02-2018 15:00</td>\n",
              "      <td>5 mins</td>\n",
              "      <td>True</td>\n",
              "      <td>True</td>\n",
              "      <td>1984</td>\n",
              "      <td>3584</td>\n",
              "      <td>355</td>\n",
              "      <td>44995.45299</td>\n",
              "      <td>4035</td>\n",
              "      <td>2021</td>\n",
              "      <td>5568</td>\n",
              "      <td>0.356322</td>\n",
              "      <td>0.643678</td>\n",
              "      <td>0.063757</td>\n",
              "    </tr>\n",
              "    <tr>\n",
              "      <th>4</th>\n",
              "      <td>Boston</td>\n",
              "      <td>19-02-2018 17:40</td>\n",
              "      <td>2 mins</td>\n",
              "      <td>False</td>\n",
              "      <td>False</td>\n",
              "      <td>1371</td>\n",
              "      <td>2580</td>\n",
              "      <td>181</td>\n",
              "      <td>27583.95530</td>\n",
              "      <td>2200</td>\n",
              "      <td>979</td>\n",
              "      <td>3951</td>\n",
              "      <td>0.347001</td>\n",
              "      <td>0.652999</td>\n",
              "      <td>0.045811</td>\n",
              "    </tr>\n",
              "  </tbody>\n",
              "</table>\n",
              "</div>\n",
              "    <div class=\"colab-df-buttons\">\n",
              "\n",
              "  <div class=\"colab-df-container\">\n",
              "    <button class=\"colab-df-convert\" onclick=\"convertToInteractive('df-80d598bf-e615-4540-a40e-f3a21b7890e8')\"\n",
              "            title=\"Convert this dataframe to an interactive table.\"\n",
              "            style=\"display:none;\">\n",
              "\n",
              "  <svg xmlns=\"http://www.w3.org/2000/svg\" height=\"24px\" viewBox=\"0 -960 960 960\">\n",
              "    <path d=\"M120-120v-720h720v720H120Zm60-500h600v-160H180v160Zm220 220h160v-160H400v160Zm0 220h160v-160H400v160ZM180-400h160v-160H180v160Zm440 0h160v-160H620v160ZM180-180h160v-160H180v160Zm440 0h160v-160H620v160Z\"/>\n",
              "  </svg>\n",
              "    </button>\n",
              "\n",
              "  <style>\n",
              "    .colab-df-container {\n",
              "      display:flex;\n",
              "      gap: 12px;\n",
              "    }\n",
              "\n",
              "    .colab-df-convert {\n",
              "      background-color: #E8F0FE;\n",
              "      border: none;\n",
              "      border-radius: 50%;\n",
              "      cursor: pointer;\n",
              "      display: none;\n",
              "      fill: #1967D2;\n",
              "      height: 32px;\n",
              "      padding: 0 0 0 0;\n",
              "      width: 32px;\n",
              "    }\n",
              "\n",
              "    .colab-df-convert:hover {\n",
              "      background-color: #E2EBFA;\n",
              "      box-shadow: 0px 1px 2px rgba(60, 64, 67, 0.3), 0px 1px 3px 1px rgba(60, 64, 67, 0.15);\n",
              "      fill: #174EA6;\n",
              "    }\n",
              "\n",
              "    .colab-df-buttons div {\n",
              "      margin-bottom: 4px;\n",
              "    }\n",
              "\n",
              "    [theme=dark] .colab-df-convert {\n",
              "      background-color: #3B4455;\n",
              "      fill: #D2E3FC;\n",
              "    }\n",
              "\n",
              "    [theme=dark] .colab-df-convert:hover {\n",
              "      background-color: #434B5C;\n",
              "      box-shadow: 0px 1px 3px 1px rgba(0, 0, 0, 0.15);\n",
              "      filter: drop-shadow(0px 1px 2px rgba(0, 0, 0, 0.3));\n",
              "      fill: #FFFFFF;\n",
              "    }\n",
              "  </style>\n",
              "\n",
              "    <script>\n",
              "      const buttonEl =\n",
              "        document.querySelector('#df-80d598bf-e615-4540-a40e-f3a21b7890e8 button.colab-df-convert');\n",
              "      buttonEl.style.display =\n",
              "        google.colab.kernel.accessAllowed ? 'block' : 'none';\n",
              "\n",
              "      async function convertToInteractive(key) {\n",
              "        const element = document.querySelector('#df-80d598bf-e615-4540-a40e-f3a21b7890e8');\n",
              "        const dataTable =\n",
              "          await google.colab.kernel.invokeFunction('convertToInteractive',\n",
              "                                                    [key], {});\n",
              "        if (!dataTable) return;\n",
              "\n",
              "        const docLinkHtml = 'Like what you see? Visit the ' +\n",
              "          '<a target=\"_blank\" href=https://colab.research.google.com/notebooks/data_table.ipynb>data table notebook</a>'\n",
              "          + ' to learn more about interactive tables.';\n",
              "        element.innerHTML = '';\n",
              "        dataTable['output_type'] = 'display_data';\n",
              "        await google.colab.output.renderOutput(dataTable, element);\n",
              "        const docLink = document.createElement('div');\n",
              "        docLink.innerHTML = docLinkHtml;\n",
              "        element.appendChild(docLink);\n",
              "      }\n",
              "    </script>\n",
              "  </div>\n",
              "\n",
              "\n",
              "<div id=\"df-d65856d0-5147-4397-816b-06c53707c18f\">\n",
              "  <button class=\"colab-df-quickchart\" onclick=\"quickchart('df-d65856d0-5147-4397-816b-06c53707c18f')\"\n",
              "            title=\"Suggest charts\"\n",
              "            style=\"display:none;\">\n",
              "\n",
              "<svg xmlns=\"http://www.w3.org/2000/svg\" height=\"24px\"viewBox=\"0 0 24 24\"\n",
              "     width=\"24px\">\n",
              "    <g>\n",
              "        <path d=\"M19 3H5c-1.1 0-2 .9-2 2v14c0 1.1.9 2 2 2h14c1.1 0 2-.9 2-2V5c0-1.1-.9-2-2-2zM9 17H7v-7h2v7zm4 0h-2V7h2v10zm4 0h-2v-4h2v4z\"/>\n",
              "    </g>\n",
              "</svg>\n",
              "  </button>\n",
              "\n",
              "<style>\n",
              "  .colab-df-quickchart {\n",
              "      --bg-color: #E8F0FE;\n",
              "      --fill-color: #1967D2;\n",
              "      --hover-bg-color: #E2EBFA;\n",
              "      --hover-fill-color: #174EA6;\n",
              "      --disabled-fill-color: #AAA;\n",
              "      --disabled-bg-color: #DDD;\n",
              "  }\n",
              "\n",
              "  [theme=dark] .colab-df-quickchart {\n",
              "      --bg-color: #3B4455;\n",
              "      --fill-color: #D2E3FC;\n",
              "      --hover-bg-color: #434B5C;\n",
              "      --hover-fill-color: #FFFFFF;\n",
              "      --disabled-bg-color: #3B4455;\n",
              "      --disabled-fill-color: #666;\n",
              "  }\n",
              "\n",
              "  .colab-df-quickchart {\n",
              "    background-color: var(--bg-color);\n",
              "    border: none;\n",
              "    border-radius: 50%;\n",
              "    cursor: pointer;\n",
              "    display: none;\n",
              "    fill: var(--fill-color);\n",
              "    height: 32px;\n",
              "    padding: 0;\n",
              "    width: 32px;\n",
              "  }\n",
              "\n",
              "  .colab-df-quickchart:hover {\n",
              "    background-color: var(--hover-bg-color);\n",
              "    box-shadow: 0 1px 2px rgba(60, 64, 67, 0.3), 0 1px 3px 1px rgba(60, 64, 67, 0.15);\n",
              "    fill: var(--button-hover-fill-color);\n",
              "  }\n",
              "\n",
              "  .colab-df-quickchart-complete:disabled,\n",
              "  .colab-df-quickchart-complete:disabled:hover {\n",
              "    background-color: var(--disabled-bg-color);\n",
              "    fill: var(--disabled-fill-color);\n",
              "    box-shadow: none;\n",
              "  }\n",
              "\n",
              "  .colab-df-spinner {\n",
              "    border: 2px solid var(--fill-color);\n",
              "    border-color: transparent;\n",
              "    border-bottom-color: var(--fill-color);\n",
              "    animation:\n",
              "      spin 1s steps(1) infinite;\n",
              "  }\n",
              "\n",
              "  @keyframes spin {\n",
              "    0% {\n",
              "      border-color: transparent;\n",
              "      border-bottom-color: var(--fill-color);\n",
              "      border-left-color: var(--fill-color);\n",
              "    }\n",
              "    20% {\n",
              "      border-color: transparent;\n",
              "      border-left-color: var(--fill-color);\n",
              "      border-top-color: var(--fill-color);\n",
              "    }\n",
              "    30% {\n",
              "      border-color: transparent;\n",
              "      border-left-color: var(--fill-color);\n",
              "      border-top-color: var(--fill-color);\n",
              "      border-right-color: var(--fill-color);\n",
              "    }\n",
              "    40% {\n",
              "      border-color: transparent;\n",
              "      border-right-color: var(--fill-color);\n",
              "      border-top-color: var(--fill-color);\n",
              "    }\n",
              "    60% {\n",
              "      border-color: transparent;\n",
              "      border-right-color: var(--fill-color);\n",
              "    }\n",
              "    80% {\n",
              "      border-color: transparent;\n",
              "      border-right-color: var(--fill-color);\n",
              "      border-bottom-color: var(--fill-color);\n",
              "    }\n",
              "    90% {\n",
              "      border-color: transparent;\n",
              "      border-bottom-color: var(--fill-color);\n",
              "    }\n",
              "  }\n",
              "</style>\n",
              "\n",
              "  <script>\n",
              "    async function quickchart(key) {\n",
              "      const quickchartButtonEl =\n",
              "        document.querySelector('#' + key + ' button');\n",
              "      quickchartButtonEl.disabled = true;  // To prevent multiple clicks.\n",
              "      quickchartButtonEl.classList.add('colab-df-spinner');\n",
              "      try {\n",
              "        const charts = await google.colab.kernel.invokeFunction(\n",
              "            'suggestCharts', [key], {});\n",
              "      } catch (error) {\n",
              "        console.error('Error during call to suggestCharts:', error);\n",
              "      }\n",
              "      quickchartButtonEl.classList.remove('colab-df-spinner');\n",
              "      quickchartButtonEl.classList.add('colab-df-quickchart-complete');\n",
              "    }\n",
              "    (() => {\n",
              "      let quickchartButtonEl =\n",
              "        document.querySelector('#df-d65856d0-5147-4397-816b-06c53707c18f button');\n",
              "      quickchartButtonEl.style.display =\n",
              "        google.colab.kernel.accessAllowed ? 'block' : 'none';\n",
              "    })();\n",
              "  </script>\n",
              "</div>\n",
              "\n",
              "    </div>\n",
              "  </div>\n"
            ]
          },
          "metadata": {},
          "execution_count": 91
        }
      ]
    },
    {
      "cell_type": "code",
      "source": [
        "df['cancellation_rate']= df['rider_cancellations']/ df['total_trips']\n",
        "commute=df[df['commute']==True]['cancellation_rate']\n",
        "non_commute=df[df['commute']==False]['cancellation_rate']\n"
      ],
      "metadata": {
        "id": "tOhk5VPhUwOv"
      },
      "execution_count": 75,
      "outputs": []
    },
    {
      "cell_type": "code",
      "source": [
        "sns.kdeplot(non_commute, bw_adjust=5, label='Non-Commuting Hours', shade=True)\n",
        "sns.kdeplot(commute, bw_adjust=5, label='Commuting Hours', shade=True)\n",
        "\n",
        "plt.xlabel('Cancellation Rate')\n",
        "plt.ylabel('Density')\n",
        "plt.title('Kernel Density Estimation of Cancellation Rates')\n",
        "plt.legend()\n",
        "plt.show()\n"
      ],
      "metadata": {
        "colab": {
          "base_uri": "https://localhost:8080/",
          "height": 750
        },
        "id": "5WjN-3lCdsq5",
        "outputId": "3aff1522-6751-446f-c12d-f3de31fd5522"
      },
      "execution_count": 76,
      "outputs": [
        {
          "output_type": "stream",
          "name": "stderr",
          "text": [
            "<ipython-input-76-5754e924cc34>:1: FutureWarning:\n",
            "\n",
            "\n",
            "\n",
            "`shade` is now deprecated in favor of `fill`; setting `fill=True`.\n",
            "This will become an error in seaborn v0.14.0; please update your code.\n",
            "\n",
            "\n",
            "<ipython-input-76-5754e924cc34>:2: FutureWarning:\n",
            "\n",
            "\n",
            "\n",
            "`shade` is now deprecated in favor of `fill`; setting `fill=True`.\n",
            "This will become an error in seaborn v0.14.0; please update your code.\n",
            "\n",
            "\n"
          ]
        },
        {
          "output_type": "display_data",
          "data": {
            "text/plain": [
              "<Figure size 640x480 with 1 Axes>"
            ],
            "image/png": "[encoded data removed]"
          },
          "metadata": {}
        }
      ]
    },
    {
      "cell_type": "markdown",
      "source": [
        "We can interpret this KDE plot as non-commuting hour having its mean cancellation rate around 0.04 with lesser variance compared to commuting hour KDE, where it is centred around the mean 0.06 and has a larger standard deviation in comparison.\n",
        "The cancellation rate is higher for non-commuting hour but since the deviance is greater too, there could be various factors for it.\n",
        "\n",
        "\n",
        "Non-commuting hour: Strong central tendancy\n",
        "Commuting hour: Wider range of cancellation rate\n",
        "\n",
        "\n",
        "We can interpret this as, during commuting hour(orange graph) the tolerance for waiting more is less. And so riders might tend to cancel often."
      ],
      "metadata": {
        "id": "jCgwHSDnMCV1"
      }
    },
    {
      "cell_type": "markdown",
      "source": [
        "# 2 Waiting times and commuting versus non-commuting hours\n",
        "### 1. What is the difference in the number of ridesharing trips between the treatment and control groups during commuting hours? Is the difference statistically significant? What about rider cancellation and payouts? (20%)\n"
      ],
      "metadata": {
        "id": "u00tUrkVfTjL"
      }
    },
    {
      "cell_type": "code",
      "source": [
        "#treat_commute = df[df.commute & df.treat]\n",
        "treat_commute=df[(df['commute']==True) & (df['treat']==True)]\n",
        "control_commute= df[(df['commute']==True) & (df['treat']==False)]\n",
        "\n",
        "if treat_commute['total_trips'].sum() > control_commute['total_trips'].sum():\n",
        "  print(\"Treatment group has more trips compared to Control group during commute hours\")\n",
        "else:\n",
        "  print(\"Control group has more trips compared to Treatment group during commute hours\")\n",
        "\n",
        "treat_commute_total_trips=treat_commute['total_trips'].sum()\n",
        "control_commute_total_trips=control_commute['total_trips'].sum()\n",
        "\n",
        "\n",
        "difference=abs( treat_commute['total_trips'].sum()-control_commute['total_trips'].sum())\n",
        "difference\n",
        "\n"
      ],
      "metadata": {
        "id": "Kzp9FPzAfRtf",
        "colab": {
          "base_uri": "https://localhost:8080/"
        },
        "outputId": "8a2edd83-ca18-4895-b5bb-ba24e216d706"
      },
      "execution_count": 77,
      "outputs": [
        {
          "output_type": "stream",
          "name": "stdout",
          "text": [
            "Control group has more trips compared to Treatment group during commute hours\n"
          ]
        },
        {
          "output_type": "execute_result",
          "data": {
            "text/plain": [
              "3219"
            ]
          },
          "metadata": {},
          "execution_count": 77
        }
      ]
    },
    {
      "cell_type": "markdown",
      "source": [
        "This implies that people are ready to wait for more time and during commute hours, which seems counterintuitive. Let's see if this difference is statistically significant using two-sample t-tests."
      ],
      "metadata": {
        "id": "Bgjl3bXK18yN"
      }
    },
    {
      "cell_type": "code",
      "source": [
        "t_test , p_value= ttest_ind(treat_commute['total_trips'],control_commute['total_trips'])\n",
        "t_test, p_value, treat_commute_total_trips, control_commute_total_trips"
      ],
      "metadata": {
        "colab": {
          "base_uri": "https://localhost:8080/"
        },
        "id": "EqpADOf41hgJ",
        "outputId": "3838d6dd-8837-42d2-ddcb-7fe3c24bf827"
      },
      "execution_count": 89,
      "outputs": [
        {
          "output_type": "execute_result",
          "data": {
            "text/plain": [
              "(1.4196622182817156, 0.17279343556167226, 47241, 50460)"
            ]
          },
          "metadata": {},
          "execution_count": 89
        }
      ]
    },
    {
      "cell_type": "markdown",
      "source": [
        "p-value is greater than 0.05 which suggests that the difference is not statistically significant. So we can not accept the fact that more number of trips with the control group during commute hours implies that people prefer to wait longer."
      ],
      "metadata": {
        "id": "I4mbqK2z3N95"
      }
    },
    {
      "cell_type": "markdown",
      "source": [
        "### Now, for rider cancellation rates and payouts:"
      ],
      "metadata": {
        "id": "KUMREQKu3lri"
      }
    },
    {
      "cell_type": "code",
      "source": [
        "mean_treat_cancel= treat_commute['cancellation_rate'].mean()\n",
        "mean_control_cancel= control_commute['cancellation_rate'].mean()\n",
        "\n",
        "print(\"Mean values of cancellation rates: \")\n",
        "print(\"Control group cancellation rate mean : \",round(mean_control_cancel,2))\n",
        "print(\"Treat group cancellation rate mean   : \",round(mean_treat_cancel,2))\n",
        "print(\"Differnece: \",mean_treat_cancel-mean_control_cancel )\n",
        "\n",
        "\n",
        "mean_treat_payout= treat_commute['total_driver_payout'].mean()\n",
        "mean_control_payout= control_commute['total_driver_payout'].mean()\n",
        "\n",
        "print(\"\\nMean values of driver payout rates: \")\n",
        "print(\"Control group driver payout rates mean : \",round(mean_control_payout,2))\n",
        "print(\"Treat group driver payout rates mean   : \",round(mean_treat_payout,2))\n",
        "print(\"Differnece: \",round(mean_control_payout -mean_treat_payout))\n"
      ],
      "metadata": {
        "colab": {
          "base_uri": "https://localhost:8080/"
        },
        "id": "aB6jInFn3tqz",
        "outputId": "323da398-19ef-4c51-f9be-1178672f7395"
      },
      "execution_count": 92,
      "outputs": [
        {
          "output_type": "stream",
          "name": "stdout",
          "text": [
            "Mean values of cancellation rates: \n",
            "Control group cancellation rate mean :  0.05\n",
            "Treat group cancellation rate mean   :  0.06\n",
            "Differnece:  0.01585870832872384\n",
            "\n",
            "Mean values of driver payout rates: \n",
            "Control group driver payout rates mean :  39524.42\n",
            "Treat group driver payout rates mean   :  35744.23\n",
            "Differnece:  3780\n"
          ]
        }
      ]
    },
    {
      "cell_type": "markdown",
      "source": [
        "We see that average cancellation rate is higher for Treatment group than the control group.\n",
        "\n",
        "This implies passengers tend to cancel more when the waiting time is increased from 2 mintues to 5 minutes.\n",
        "\n",
        "We can aslo see that the average driver payout is higher for the control group that is when the waiting time is 2 minutes. Let's check the statistical significance of these results."
      ],
      "metadata": {
        "id": "1NQB9NBTat2_"
      }
    },
    {
      "cell_type": "code",
      "source": [
        "t_test, p_value= ttest_ind(treat_commute['cancellation_rate'],control_commute['cancellation_rate'] )\n",
        "t_test, p_value, mean_control_cancel, mean_treat_cancel"
      ],
      "metadata": {
        "colab": {
          "base_uri": "https://localhost:8080/"
        },
        "id": "JPx2Z1P8ctR2",
        "outputId": "6f26bc86-6f5a-4239-b226-5598a5a04662"
      },
      "execution_count": 80,
      "outputs": [
        {
          "output_type": "execute_result",
          "data": {
            "text/plain": [
              "(6.86409733133709,\n",
              " 2.0176254691588186e-06,\n",
              " 0.04861365381951811,\n",
              " 0.06447236214824195)"
            ]
          },
          "metadata": {},
          "execution_count": 80
        }
      ]
    },
    {
      "cell_type": "markdown",
      "source": [
        "The p-value is less than 0.05 and this suggests that difference in the rider cancellations between the treatment groups and control groups is statistically significant."
      ],
      "metadata": {
        "id": "CSVvtSmLdojq"
      }
    },
    {
      "cell_type": "code",
      "source": [
        "t_test, p_value= ttest_ind(treat_commute['total_driver_payout'],control_commute['total_driver_payout'] )\n",
        "t_test, p_value, mean_control_payout, mean_treat_payout"
      ],
      "metadata": {
        "colab": {
          "base_uri": "https://localhost:8080/"
        },
        "id": "t1pVYmIBdQxU",
        "outputId": "645f57ca-0d75-4442-d5fd-ec4a3405fd1c"
      },
      "execution_count": 81,
      "outputs": [
        {
          "output_type": "execute_result",
          "data": {
            "text/plain": [
              "(-1.6806315641161096, 0.11010498008681915, 39524.422611, 35744.22831)"
            ]
          },
          "metadata": {},
          "execution_count": 81
        }
      ]
    },
    {
      "cell_type": "markdown",
      "source": [
        "The p-value is greater than 0.05 and this suggests that difference in the driver payouts between the treatment groups and control groups is not statistically significant."
      ],
      "metadata": {
        "id": "5WDGttQCd8d8"
      }
    },
    {
      "cell_type": "markdown",
      "source": [
        "### 2. What is the difference in the number of ridesharing trips between the treatment and control groups during non-commuting hours? Is the difference statistically significant? What about rider cancellation and payouts? (20%)\n"
      ],
      "metadata": {
        "id": "Emxd8SeNbOWO"
      }
    },
    {
      "cell_type": "code",
      "source": [
        "#treat_commute = df[df.commute & df.treat]\n",
        "treat_non_commute=df[(df['commute']==False) & (df['treat']==True)]\n",
        "control_non_commute= df[(df['commute']==False) & (df['treat']==False)]\n",
        "\n",
        "if treat_non_commute['total_trips'].sum() > control_non_commute['total_trips'].sum():\n",
        "  print(\"Treatment group has more trips compared to Control group during non-commute hours\")\n",
        "else:\n",
        "  print(\"Control group has more trips compared to Treatment group during non-commute hours\")\n",
        "\n",
        "treat_non_commute_total_trips=treat_non_commute['total_trips'].sum()\n",
        "control_non_commute_total_trips=control_non_commute['total_trips'].sum()\n",
        "\n",
        "\n",
        "difference=abs( treat_non_commute['total_trips'].sum()-control_non_commute['total_trips'].sum())\n",
        "difference\n",
        "\n"
      ],
      "metadata": {
        "colab": {
          "base_uri": "https://localhost:8080/"
        },
        "id": "Fa3zkNqSbYm9",
        "outputId": "bbcb0626-60e8-421c-e903-2fe1ac7e1830"
      },
      "execution_count": 88,
      "outputs": [
        {
          "output_type": "stream",
          "name": "stdout",
          "text": [
            "Control group has more trips compared to Treatment group during non-commute hours\n"
          ]
        },
        {
          "output_type": "execute_result",
          "data": {
            "text/plain": [
              "2256"
            ]
          },
          "metadata": {},
          "execution_count": 88
        }
      ]
    },
    {
      "cell_type": "code",
      "source": [
        "t_test , p_value= ttest_ind(treat_non_commute['total_trips'],control_non_commute['total_trips'])\n",
        "t_test, p_value, treat_non_commute_total_trips, control_non_commute_total_trips"
      ],
      "metadata": {
        "colab": {
          "base_uri": "https://localhost:8080/"
        },
        "id": "LpakO7IQbh4B",
        "outputId": "f686c03b-4904-4da5-dae6-85e5135dbe99"
      },
      "execution_count": 83,
      "outputs": [
        {
          "output_type": "execute_result",
          "data": {
            "text/plain": [
              "(-0.598129019162737, 0.5510542032399828, 197204, 199460)"
            ]
          },
          "metadata": {},
          "execution_count": 83
        }
      ]
    },
    {
      "cell_type": "markdown",
      "source": [
        "p-value is greater than 0.05 which suggests that the difference is not statistically significant. So we can not accept the fact that more number of trips with the control group during non-commute hours implies that people prefer to wait longer."
      ],
      "metadata": {
        "id": "czDYiN7_fgTg"
      }
    },
    {
      "cell_type": "code",
      "source": [
        "mean_treat_cancel= treat_non_commute['cancellation_rate'].mean()\n",
        "mean_control_cancel= control_non_commute['cancellation_rate'].mean()\n",
        "\n",
        "print(\"Mean values of cancellation rates: \")\n",
        "print(\"Control group cancellation rate mean : \",mean_control_cancel)\n",
        "print(\"Treat group cancellation rate mean   : \",mean_treat_cancel)\n",
        "print(\"Differnece: \",mean_treat_cancel-mean_control_cancel )\n",
        "\n",
        "\n",
        "mean_treat_payout= treat_non_commute['total_driver_payout'].mean()\n",
        "mean_control_payout= control_non_commute['total_driver_payout'].mean()\n",
        "\n",
        "print(\"\\nMean values of driver payout rates: \")\n",
        "print(\"Control group driver payout rates mean : \",mean_control_payout)\n",
        "print(\"Treat group driver payout rates mean   : \", mean_treat_payout)\n",
        "print(\"Differnece: \",mean_control_payout -mean_treat_payout)\n"
      ],
      "metadata": {
        "colab": {
          "base_uri": "https://localhost:8080/"
        },
        "id": "Nfxi7gXobhT8",
        "outputId": "15b857fe-c892-43da-dca5-fa36ee13b572"
      },
      "execution_count": 93,
      "outputs": [
        {
          "output_type": "stream",
          "name": "stdout",
          "text": [
            "Mean values of cancellation rates: \n",
            "Control group cancellation rate mean :  0.03982014066357305\n",
            "Treat group cancellation rate mean   :  0.0454916416648984\n",
            "Differnece:  0.005671501001325352\n",
            "\n",
            "Mean values of driver payout rates: \n",
            "Control group driver payout rates mean :  27360.449546037737\n",
            "Treat group driver payout rates mean   :  25567.91447981132\n",
            "Differnece:  1792.5350662264173\n"
          ]
        }
      ]
    },
    {
      "cell_type": "code",
      "source": [
        "t_test, p_value= ttest_ind(treat_non_commute['cancellation_rate'],control_non_commute['cancellation_rate'] )\n",
        "t_test, p_value, mean_control_cancel, mean_treat_cancel"
      ],
      "metadata": {
        "colab": {
          "base_uri": "https://localhost:8080/"
        },
        "id": "VoA00Dmgf2GE",
        "outputId": "86de4b78-450f-4639-9ef4-eb3cfdcb550e"
      },
      "execution_count": 94,
      "outputs": [
        {
          "output_type": "execute_result",
          "data": {
            "text/plain": [
              "(5.731757186149868,\n",
              " 9.785562231033288e-08,\n",
              " 0.03982014066357305,\n",
              " 0.0454916416648984)"
            ]
          },
          "metadata": {},
          "execution_count": 94
        }
      ]
    },
    {
      "cell_type": "code",
      "source": [
        "t_test, p_value= ttest_ind(treat_non_commute['total_driver_payout'],control_non_commute['total_driver_payout'] )\n",
        "t_test, p_value, mean_control_payout, mean_treat_payout"
      ],
      "metadata": {
        "colab": {
          "base_uri": "https://localhost:8080/"
        },
        "id": "D73SalF8gMlZ",
        "outputId": "d4e3dcb8-af3e-4261-9ade-079849e49cfd"
      },
      "execution_count": 95,
      "outputs": [
        {
          "output_type": "execute_result",
          "data": {
            "text/plain": [
              "(-2.9716013997967057,\n",
              " 0.003680442840381374,\n",
              " 27360.449546037737,\n",
              " 25567.91447981132)"
            ]
          },
          "metadata": {},
          "execution_count": 95
        }
      ]
    },
    {
      "cell_type": "markdown",
      "source": [
        "The p-value is less than 0.05 and this suggests that difference in the driver payouts between the treatment groups and control groups is statistically significant during non-commute hours."
      ],
      "metadata": {
        "id": "Sh80Hnyif_Qt"
      }
    }
  ]
}
